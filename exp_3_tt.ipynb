{
  "nbformat": 4,
  "nbformat_minor": 0,
  "metadata": {
    "colab": {
      "provenance": []
    },
    "kernelspec": {
      "name": "python3",
      "display_name": "Python 3"
    },
    "language_info": {
      "name": "python"
    }
  },
  "cells": [
    {
      "cell_type": "code",
      "execution_count": null,
      "metadata": {
        "colab": {
          "base_uri": "https://localhost:8080/"
        },
        "id": "EHb_qzEdOUxG",
        "outputId": "824e4911-f49c-4e22-9a28-4cfaec67f383"
      },
      "outputs": [
        {
          "output_type": "execute_result",
          "data": {
            "text/plain": [
              "3"
            ]
          },
          "metadata": {},
          "execution_count": 30
        }
      ],
      "source": [
        "def cf(a):\n",
        "  a = [sum(a[:i + 1]) for i in range(len(a))]\n",
        "  return set(a)\n",
        "\n",
        "def func(a=[1,2,3],b=[3,10,3],c=[2,1,3,4]):\n",
        "  a = cf(a)\n",
        "  b = cf(b)\n",
        "  c = cf(c)\n",
        "  if(a & b & c):\n",
        "    d=a&b&c\n",
        "    return max(d)\n",
        "  else:\n",
        "    return 0\n",
        "\n",
        "def Constraint(a, v):\n",
        "  return(all(x <= v for x in a))\n",
        "\n",
        "func()"
      ]
    },
    {
      "cell_type": "code",
      "source": [
        "n = [int(i) for i in input('size of each of 3 arrays:').split()]\n",
        "if (Constraint(n,10**5) and len(n)==3):\n",
        "  a = [int(i) for i in input('elements of array 1:').split()]\n",
        "  b = [int(i) for i in input('elements of array 2:').split()]\n",
        "  c = [int(i) for i in input('elements of array 3:').split()]\n",
        "  if(Constraint(a,100) and Constraint(b,100) and Constraint(c,100) ):\n",
        "    d=[len(a),len(b),len(c)]\n",
        "    if(n==d):\n",
        "      print('max common stack height is: ',func(a,b,c))\n",
        "    else:\n",
        "      print('invalid array length 2')\n",
        "  else:\n",
        "    print(\"invalid input\")\n",
        "else:\n",
        "  print(\"invalid array length 1\")"
      ],
      "metadata": {
        "id": "40FZsiWWZgnO"
      },
      "execution_count": null,
      "outputs": []
    }
  ]
}